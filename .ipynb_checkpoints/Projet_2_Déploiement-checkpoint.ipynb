{
  "nbformat": 4,
  "nbformat_minor": 0,
  "metadata": {
    "kernelspec": {
      "display_name": "Python 3",
      "language": "python",
      "name": "python3"
    },
    "language_info": {
      "codemirror_mode": {
        "name": "ipython",
        "version": 3
      },
      "file_extension": ".py",
      "mimetype": "text/x-python",
      "name": "python",
      "nbconvert_exporter": "python",
      "pygments_lexer": "ipython3",
      "version": "3.8.5"
    },
    "colab": {
      "name": "Projet 2 - Déploiement.ipynb",
      "provenance": [],
      "collapsed_sections": []
    }
  },
  "cells": [
    {
      "cell_type": "markdown",
      "metadata": {
        "id": "SHMulbNSnu3E"
      },
      "source": [
        "# Projet 2 - Déploiement\n",
        "\n",
        "> Le but de ce projet est de mettre en production un modèle d'analyse de sentiment construit sur le jeu de données de commentaires sur [Disneyland](https://www.kaggle.com/arushchillar/disneyland-reviews)."
      ]
    },
    {
      "cell_type": "code",
      "metadata": {
        "id": "mcWXe88dnu3G"
      },
      "source": [
        "import pandas as pd\n",
        "import numpy as np\n"
      ],
      "execution_count": null,
      "outputs": []
    },
    {
      "cell_type": "code",
      "metadata": {
        "id": "Av-UvUTtnu3H",
        "outputId": "d506e3fb-a783-438f-b3d0-4f67bfd78744"
      },
      "source": [
        "df = pd.read_csv('DisneylandReviews.csv', encoding='cp1252')\n",
        "df.head()"
      ],
      "execution_count": null,
      "outputs": [
        {
          "output_type": "execute_result",
          "data": {
            "text/html": [
              "<div>\n",
              "<style scoped>\n",
              "    .dataframe tbody tr th:only-of-type {\n",
              "        vertical-align: middle;\n",
              "    }\n",
              "\n",
              "    .dataframe tbody tr th {\n",
              "        vertical-align: top;\n",
              "    }\n",
              "\n",
              "    .dataframe thead th {\n",
              "        text-align: right;\n",
              "    }\n",
              "</style>\n",
              "<table border=\"1\" class=\"dataframe\">\n",
              "  <thead>\n",
              "    <tr style=\"text-align: right;\">\n",
              "      <th></th>\n",
              "      <th>Review_ID</th>\n",
              "      <th>Rating</th>\n",
              "      <th>Year_Month</th>\n",
              "      <th>Reviewer_Location</th>\n",
              "      <th>Review_Text</th>\n",
              "      <th>Branch</th>\n",
              "    </tr>\n",
              "  </thead>\n",
              "  <tbody>\n",
              "    <tr>\n",
              "      <th>0</th>\n",
              "      <td>670772142</td>\n",
              "      <td>4</td>\n",
              "      <td>2019-4</td>\n",
              "      <td>Australia</td>\n",
              "      <td>If you've ever been to Disneyland anywhere you...</td>\n",
              "      <td>Disneyland_HongKong</td>\n",
              "    </tr>\n",
              "    <tr>\n",
              "      <th>1</th>\n",
              "      <td>670682799</td>\n",
              "      <td>4</td>\n",
              "      <td>2019-5</td>\n",
              "      <td>Philippines</td>\n",
              "      <td>Its been a while since d last time we visit HK...</td>\n",
              "      <td>Disneyland_HongKong</td>\n",
              "    </tr>\n",
              "    <tr>\n",
              "      <th>2</th>\n",
              "      <td>670623270</td>\n",
              "      <td>4</td>\n",
              "      <td>2019-4</td>\n",
              "      <td>United Arab Emirates</td>\n",
              "      <td>Thanks God it wasn   t too hot or too humid wh...</td>\n",
              "      <td>Disneyland_HongKong</td>\n",
              "    </tr>\n",
              "    <tr>\n",
              "      <th>3</th>\n",
              "      <td>670607911</td>\n",
              "      <td>4</td>\n",
              "      <td>2019-4</td>\n",
              "      <td>Australia</td>\n",
              "      <td>HK Disneyland is a great compact park. Unfortu...</td>\n",
              "      <td>Disneyland_HongKong</td>\n",
              "    </tr>\n",
              "    <tr>\n",
              "      <th>4</th>\n",
              "      <td>670607296</td>\n",
              "      <td>4</td>\n",
              "      <td>2019-4</td>\n",
              "      <td>United Kingdom</td>\n",
              "      <td>the location is not in the city, took around 1...</td>\n",
              "      <td>Disneyland_HongKong</td>\n",
              "    </tr>\n",
              "  </tbody>\n",
              "</table>\n",
              "</div>"
            ],
            "text/plain": [
              "   Review_ID  Rating Year_Month     Reviewer_Location  \\\n",
              "0  670772142       4     2019-4             Australia   \n",
              "1  670682799       4     2019-5           Philippines   \n",
              "2  670623270       4     2019-4  United Arab Emirates   \n",
              "3  670607911       4     2019-4             Australia   \n",
              "4  670607296       4     2019-4        United Kingdom   \n",
              "\n",
              "                                         Review_Text               Branch  \n",
              "0  If you've ever been to Disneyland anywhere you...  Disneyland_HongKong  \n",
              "1  Its been a while since d last time we visit HK...  Disneyland_HongKong  \n",
              "2  Thanks God it wasn   t too hot or too humid wh...  Disneyland_HongKong  \n",
              "3  HK Disneyland is a great compact park. Unfortu...  Disneyland_HongKong  \n",
              "4  the location is not in the city, took around 1...  Disneyland_HongKong  "
            ]
          },
          "metadata": {
            "tags": []
          },
          "execution_count": 16
        }
      ]
    },
    {
      "cell_type": "code",
      "metadata": {
        "id": "KaODVzjunu3H",
        "outputId": "d30f62dc-a4e1-4592-9ec1-5ccbc983975d"
      },
      "source": [
        "df.info()"
      ],
      "execution_count": null,
      "outputs": [
        {
          "output_type": "stream",
          "text": [
            "<class 'pandas.core.frame.DataFrame'>\n",
            "RangeIndex: 42656 entries, 0 to 42655\n",
            "Data columns (total 6 columns):\n",
            " #   Column             Non-Null Count  Dtype \n",
            "---  ------             --------------  ----- \n",
            " 0   Review_ID          42656 non-null  int64 \n",
            " 1   Rating             42656 non-null  int64 \n",
            " 2   Year_Month         42656 non-null  object\n",
            " 3   Reviewer_Location  42656 non-null  object\n",
            " 4   Review_Text        42656 non-null  object\n",
            " 5   Branch             42656 non-null  object\n",
            "dtypes: int64(2), object(4)\n",
            "memory usage: 2.0+ MB\n"
          ],
          "name": "stdout"
        }
      ]
    },
    {
      "cell_type": "code",
      "metadata": {
        "id": "eI6nTihcnu3I",
        "outputId": "2a1a6a0f-dee5-49ad-c92b-59b677ff1495"
      },
      "source": [
        "df['Rating'].unique()"
      ],
      "execution_count": null,
      "outputs": [
        {
          "output_type": "execute_result",
          "data": {
            "text/plain": [
              "array([4, 3, 5, 2, 1])"
            ]
          },
          "metadata": {
            "tags": []
          },
          "execution_count": 18
        }
      ]
    },
    {
      "cell_type": "markdown",
      "metadata": {
        "id": "1P5qNeT1nu3I"
      },
      "source": [
        "# Préparation des données"
      ]
    },
    {
      "cell_type": "code",
      "metadata": {
        "id": "cNokjkitnu3I"
      },
      "source": [
        "df = df.drop(['Review_ID', 'Year_Month', 'Reviewer_Location'], axis=1)"
      ],
      "execution_count": null,
      "outputs": []
    },
    {
      "cell_type": "code",
      "metadata": {
        "id": "L4dvFQk8nu3J",
        "outputId": "68b467fd-3d61-4de7-905b-6b6882685303"
      },
      "source": [
        "from nltk.corpus import stopwords\n",
        "from nltk.tokenize import NLTKWordTokenizer\n",
        "\n",
        "\n",
        "\n",
        "def preprocess_text(text):\n",
        "    stop_words = set(stopwords.words('english'))\n",
        "    stop_words.update([\"'ve\", \"\", \"'ll\", \"'s\", \".\", \",\", \"?\", \"!\", \"(\", \")\", \"..\", \"'m\", \"n\", \"u\"])\n",
        "    tokenizer = NLTKWordTokenizer()\n",
        "    \n",
        "    text = text.lower()\n",
        "    \n",
        "    tokens = tokenizer.tokenize(text)\n",
        "    tokens = [t for t in tokens if t not in stop_words]\n",
        "    \n",
        "    return ' '.join(tokens)\n",
        "\n",
        "\n",
        "\n",
        "df['Review_Text'] = df['Review_Text'].apply(preprocess_text)\n",
        "df.head()"
      ],
      "execution_count": null,
      "outputs": [
        {
          "output_type": "execute_result",
          "data": {
            "text/html": [
              "<div>\n",
              "<style scoped>\n",
              "    .dataframe tbody tr th:only-of-type {\n",
              "        vertical-align: middle;\n",
              "    }\n",
              "\n",
              "    .dataframe tbody tr th {\n",
              "        vertical-align: top;\n",
              "    }\n",
              "\n",
              "    .dataframe thead th {\n",
              "        text-align: right;\n",
              "    }\n",
              "</style>\n",
              "<table border=\"1\" class=\"dataframe\">\n",
              "  <thead>\n",
              "    <tr style=\"text-align: right;\">\n",
              "      <th></th>\n",
              "      <th>Rating</th>\n",
              "      <th>Review_Text</th>\n",
              "      <th>Branch</th>\n",
              "    </tr>\n",
              "  </thead>\n",
              "  <tbody>\n",
              "    <tr>\n",
              "      <th>0</th>\n",
              "      <td>4</td>\n",
              "      <td>ever disneyland anywhere find disneyland hong ...</td>\n",
              "      <td>Disneyland_HongKong</td>\n",
              "    </tr>\n",
              "    <tr>\n",
              "      <th>1</th>\n",
              "      <td>4</td>\n",
              "      <td>since last time visit hk disneyland yet time s...</td>\n",
              "      <td>Disneyland_HongKong</td>\n",
              "    </tr>\n",
              "    <tr>\n",
              "      <th>2</th>\n",
              "      <td>4</td>\n",
              "      <td>thanks god hot humid visiting park otherwise w...</td>\n",
              "      <td>Disneyland_HongKong</td>\n",
              "    </tr>\n",
              "    <tr>\n",
              "      <th>3</th>\n",
              "      <td>4</td>\n",
              "      <td>hk disneyland great compact park. unfortunatel...</td>\n",
              "      <td>Disneyland_HongKong</td>\n",
              "    </tr>\n",
              "    <tr>\n",
              "      <th>4</th>\n",
              "      <td>4</td>\n",
              "      <td>location city took around 1 hour kowlon kids l...</td>\n",
              "      <td>Disneyland_HongKong</td>\n",
              "    </tr>\n",
              "  </tbody>\n",
              "</table>\n",
              "</div>"
            ],
            "text/plain": [
              "   Rating                                        Review_Text  \\\n",
              "0       4  ever disneyland anywhere find disneyland hong ...   \n",
              "1       4  since last time visit hk disneyland yet time s...   \n",
              "2       4  thanks god hot humid visiting park otherwise w...   \n",
              "3       4  hk disneyland great compact park. unfortunatel...   \n",
              "4       4  location city took around 1 hour kowlon kids l...   \n",
              "\n",
              "                Branch  \n",
              "0  Disneyland_HongKong  \n",
              "1  Disneyland_HongKong  \n",
              "2  Disneyland_HongKong  \n",
              "3  Disneyland_HongKong  \n",
              "4  Disneyland_HongKong  "
            ]
          },
          "metadata": {
            "tags": []
          },
          "execution_count": 20
        }
      ]
    },
    {
      "cell_type": "code",
      "metadata": {
        "id": "AVf7cO71nu3J",
        "outputId": "25d8c93f-c973-479b-c135-f7e3cffc69a1"
      },
      "source": [
        "df['Review_Text'][1]"
      ],
      "execution_count": null,
      "outputs": [
        {
          "output_type": "execute_result",
          "data": {
            "text/plain": [
              "'since last time visit hk disneyland yet time stay tomorrowland aka marvel land iron man experience newly open ant man wasp ironman great feature exciting especially whole scenery hk hk central area kowloon antman changed previous buzz lightyear less expecting something however boys like space mountain turns star wars 1 great cast members staffs felt bit minus point dun feel like disney brand seems local like ocean park even worst got smiling face wan na enter attraction leave hello supposed happiest place earth brand really dont feel bakery main street attractive delicacies disney theme sweets good points last also starbucks inside theme park'"
            ]
          },
          "metadata": {
            "tags": []
          },
          "execution_count": 21
        }
      ]
    },
    {
      "cell_type": "markdown",
      "metadata": {
        "id": "35S5AMmTnu3K"
      },
      "source": [
        "# Premier Modele\n",
        "\n",
        "> Le premier modèle consiste à considérer toutes les branches ensemble."
      ]
    },
    {
      "cell_type": "code",
      "metadata": {
        "id": "Acxb2w7qnu3K",
        "outputId": "dfdf8097-d3a1-4991-dbe5-4fd40ef86560"
      },
      "source": [
        "df1 = df.drop(['Branch'], axis=1)\n",
        "df1.head()\n"
      ],
      "execution_count": null,
      "outputs": [
        {
          "output_type": "execute_result",
          "data": {
            "text/html": [
              "<div>\n",
              "<style scoped>\n",
              "    .dataframe tbody tr th:only-of-type {\n",
              "        vertical-align: middle;\n",
              "    }\n",
              "\n",
              "    .dataframe tbody tr th {\n",
              "        vertical-align: top;\n",
              "    }\n",
              "\n",
              "    .dataframe thead th {\n",
              "        text-align: right;\n",
              "    }\n",
              "</style>\n",
              "<table border=\"1\" class=\"dataframe\">\n",
              "  <thead>\n",
              "    <tr style=\"text-align: right;\">\n",
              "      <th></th>\n",
              "      <th>Rating</th>\n",
              "      <th>Review_Text</th>\n",
              "    </tr>\n",
              "  </thead>\n",
              "  <tbody>\n",
              "    <tr>\n",
              "      <th>0</th>\n",
              "      <td>4</td>\n",
              "      <td>ever disneyland anywhere find disneyland hong ...</td>\n",
              "    </tr>\n",
              "    <tr>\n",
              "      <th>1</th>\n",
              "      <td>4</td>\n",
              "      <td>since last time visit hk disneyland yet time s...</td>\n",
              "    </tr>\n",
              "    <tr>\n",
              "      <th>2</th>\n",
              "      <td>4</td>\n",
              "      <td>thanks god hot humid visiting park otherwise w...</td>\n",
              "    </tr>\n",
              "    <tr>\n",
              "      <th>3</th>\n",
              "      <td>4</td>\n",
              "      <td>hk disneyland great compact park. unfortunatel...</td>\n",
              "    </tr>\n",
              "    <tr>\n",
              "      <th>4</th>\n",
              "      <td>4</td>\n",
              "      <td>location city took around 1 hour kowlon kids l...</td>\n",
              "    </tr>\n",
              "  </tbody>\n",
              "</table>\n",
              "</div>"
            ],
            "text/plain": [
              "   Rating                                        Review_Text\n",
              "0       4  ever disneyland anywhere find disneyland hong ...\n",
              "1       4  since last time visit hk disneyland yet time s...\n",
              "2       4  thanks god hot humid visiting park otherwise w...\n",
              "3       4  hk disneyland great compact park. unfortunatel...\n",
              "4       4  location city took around 1 hour kowlon kids l..."
            ]
          },
          "metadata": {
            "tags": []
          },
          "execution_count": 22
        }
      ]
    },
    {
      "cell_type": "code",
      "metadata": {
        "id": "mALyOO11nu3K"
      },
      "source": [
        "from sklearn.feature_extraction.text import CountVectorizer"
      ],
      "execution_count": null,
      "outputs": []
    },
    {
      "cell_type": "code",
      "metadata": {
        "id": "6yKobyHbnu3K"
      },
      "source": [
        "from sklearn.model_selection import train_test_split\n",
        "\n",
        "features = df['Review_Text']\n",
        "target = df['Rating']\n",
        "\n",
        "\n",
        "X_train, X_test, y_train, y_test = train_test_split(features, target)\n",
        "\n",
        "count_vectorizer_unique = CountVectorizer(max_features=2000)\n",
        "\n",
        "X_train_cv = count_vectorizer_unique.fit_transform(X_train)\n",
        "X_test_cv = count_vectorizer_unique.transform(X_test)"
      ],
      "execution_count": null,
      "outputs": []
    },
    {
      "cell_type": "code",
      "metadata": {
        "id": "EI_tz7xXnu3L",
        "outputId": "abaf9014-0751-4690-aad3-4276e5b80281"
      },
      "source": [
        "from sklearn.linear_model import LogisticRegression\n",
        "from sklearn.ensemble import RandomForestClassifier\n",
        "from sklearn.tree import DecisionTreeClassifier\n",
        "\n",
        "# model_unique = RandomForestClassifier(max_depth=3, n_estimators=100)\n",
        "model_unique = LogisticRegression()\n",
        "# model_unique = DecisionTreeClassifier(max_depth=8)\n",
        "\n",
        "model_unique.fit(X_train_cv, y_train)\n",
        "\n",
        "model_unique.score(X_test_cv, y_test)"
      ],
      "execution_count": null,
      "outputs": [
        {
          "output_type": "stream",
          "text": [
            "/home/paul/.local/lib/python3.8/site-packages/sklearn/linear_model/_logistic.py:762: ConvergenceWarning: lbfgs failed to converge (status=1):\n",
            "STOP: TOTAL NO. of ITERATIONS REACHED LIMIT.\n",
            "\n",
            "Increase the number of iterations (max_iter) or scale the data as shown in:\n",
            "    https://scikit-learn.org/stable/modules/preprocessing.html\n",
            "Please also refer to the documentation for alternative solver options:\n",
            "    https://scikit-learn.org/stable/modules/linear_model.html#logistic-regression\n",
            "  n_iter_i = _check_optimize_result(\n"
          ],
          "name": "stderr"
        },
        {
          "output_type": "execute_result",
          "data": {
            "text/plain": [
              "0.6086834208552138"
            ]
          },
          "metadata": {
            "tags": []
          },
          "execution_count": 25
        }
      ]
    },
    {
      "cell_type": "markdown",
      "metadata": {
        "id": "P4fkX6IEnu3L"
      },
      "source": [
        "## Deuxieme modele\n",
        "\n",
        "> Dans ce modele les branches sont séparées en 3."
      ]
    },
    {
      "cell_type": "code",
      "metadata": {
        "id": "pLKAc7J9nu3L",
        "outputId": "c637b313-98c2-4e08-a874-4cd7fc123458"
      },
      "source": [
        "df['Branch'].unique()"
      ],
      "execution_count": null,
      "outputs": [
        {
          "output_type": "execute_result",
          "data": {
            "text/plain": [
              "array(['Disneyland_HongKong', 'Disneyland_California', 'Disneyland_Paris'],\n",
              "      dtype=object)"
            ]
          },
          "metadata": {
            "tags": []
          },
          "execution_count": 26
        }
      ]
    },
    {
      "cell_type": "code",
      "metadata": {
        "id": "dgwVRnl0nu3L",
        "outputId": "c9b2b976-eb35-49b5-9d10-7fba1d200bfe"
      },
      "source": [
        "count_vectorizers = {}\n",
        "models = {}\n",
        "\n",
        "for branch in df['Branch'].unique():\n",
        "    count_vectorizer = CountVectorizer(max_features=2000)\n",
        "#     model = LogisticRegression()\n",
        "    model = RandomForestClassifier(n_estimators=20, max_depth=5)\n",
        "    \n",
        "    df_temp = df[df['Branch'] == branch]\n",
        "    \n",
        "    X_train, X_test, y_train, y_test = train_test_split(df_temp['Review_Text'], df_temp['Rating'])\n",
        "    \n",
        "    X_train_cv = count_vectorizer.fit_transform(X_train)\n",
        "    X_test_cv = count_vectorizer.transform(X_test)\n",
        "    \n",
        "    model.fit(X_train_cv, y_train)\n",
        "    print(branch, ':', model.score(X_test_cv, y_test))\n",
        "    \n",
        "    count_vectorizers[branch] = count_vectorizer\n",
        "    models[branch] = model\n",
        "    "
      ],
      "execution_count": null,
      "outputs": [
        {
          "output_type": "stream",
          "text": [
            "Disneyland_HongKong : 0.47650727650727653\n",
            "Disneyland_California : 0.6424154987633965\n",
            "Disneyland_Paris : 0.4380868544600939\n"
          ],
          "name": "stdout"
        }
      ]
    },
    {
      "cell_type": "markdown",
      "metadata": {
        "id": "F6MVG-Hlnu3M"
      },
      "source": [
        "## Objectifs\n",
        "\n",
        "> L'objectif de ce projet est de déployer les modèles créés plus tôt. Attention, en production, les modèles ne devront pas être ré-entrainés.\n",
        ">\n",
        "> ### L'API\n",
        ">\n",
        "> On va dans un premier construire une API avec Flask ou FastAPI. Cette API devra permettre d'interroger les différents modèles. Les utilisateurs pourront aussi interroger l'API pour accéder aux performances de l'algorithme sur les jeux de tests. Enfin il faut permettre aux utilisateurs d'utiliser une identification basique. (On pourra utiliser le `header` `Authentication` et encoder `username:password` en base 64).\n",
        "> On pourra utiliser la liste d'utilisateurs/mots de passe suivante:\n",
        "> - alice: wonderland\n",
        "> - bob: builder\n",
        "> - clementine: mandarine\n",
        "> - ... \n",
        ">\n",
        "> ### Le container\n",
        ">\n",
        "> Il s'agira ici de créer un container Docker pour déployer facilement l'API. On portera une attention particulière aux librairies Python à installer ainsi qu'à leurs différentes versions. \n",
        ">\n",
        "> ### Les tests\n",
        ">\n",
        "> Une série de tests devra être créée pour tester l'API contenairisée. On pourra pour cela créé un fichier `docker-compose.yml` en s'inspirant de ce qui a été fait dans l'évaluation de Docker. \n",
        ">\n",
        "> ### Kubernetes\n",
        ">\n",
        "> On pourra enfin créer un fichier de déploiement ainsi qu'un Service et un Ingress avec Kubernetes pour permettre le déploiement de l'API sur au moins 3 Pods.\n",
        "\n",
        "## Rendus\n",
        "\n",
        "> Les attendus sont un fichier pdf contenant des précisions sur les fichiers, sur les différentes étapes ainsi que sur les choix effectués. \n",
        "> On devra aussi rendre un repo Github sur lequel seront les fichiers suivants:\n",
        "> - fichiers sources de l'API\n",
        "> - Dockerfile de l'API\n",
        "> - dans un dossier l'ensemble des fichiers utilisés pour créer les tests\n",
        "> - les fichiers de déploiements de Kubernetes\n",
        "> - tout autre fichier ayant été utilisés pour faire ce projet."
      ]
    },
    {
      "cell_type": "code",
      "metadata": {
        "id": "ZJiom3d2HEbo"
      },
      "source": [
        ""
      ],
      "execution_count": null,
      "outputs": []
    }
  ]
}